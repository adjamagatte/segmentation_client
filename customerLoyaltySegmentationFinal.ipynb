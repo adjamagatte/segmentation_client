{
 "cells": [
  {
   "cell_type": "markdown",
   "id": "8a32c2a8",
   "metadata": {},
   "source": [
    "### SEGMENTATION OF CUSTOMER-LOYALTY DATASET USING RFM SCORING "
   ]
  },
  {
   "cell_type": "markdown",
   "id": "5c68b0f3",
   "metadata": {},
   "source": [
    "##   I) Analysing the dataset to see what we have"
   ]
  },
  {
   "cell_type": "code",
   "execution_count": 2,
   "id": "5bbfb719",
   "metadata": {},
   "outputs": [],
   "source": [
    "import pandas as pd\n",
    "import matplotlib.pyplot as plt\n",
    "import seaborn as sns\n",
    "#from sklearn.cluster import KMeans\n",
    "import numpy as np"
   ]
  },
  {
   "cell_type": "code",
   "execution_count": 3,
   "id": "7db1fd9a",
   "metadata": {},
   "outputs": [
    {
     "name": "stdout",
     "output_type": "stream",
     "text": [
      "La dimension de la Dataframe est.....-> (3280, 11)\n",
      "\n",
      "Nuber of customer used in this projetc.....-> 3280\n",
      "\n"
     ]
    },
    {
     "data": {
      "text/plain": [
       "Index(['TIERS', 'DATECREATION', 'LIBELLE_CODE_STAT2', 'SOMMEUTILISEE',\n",
       "       'NbrConommable', 'NbrDevices', 'Parrain', 'DERNIEREDATEACHAT',\n",
       "       'DERNIEREDATEBL', 'annee_BL', 'duree_de_vie'],\n",
       "      dtype='object')"
      ]
     },
     "execution_count": 3,
     "metadata": {},
     "output_type": "execute_result"
    }
   ],
   "source": [
    "data= pd.read_csv(\"data/scoring_dataset.csv\",sep=\";\")\n",
    "print('La dimension de la Dataframe est.....-> {}\\n'.format(data.shape))\n",
    "\n",
    "print('Nuber of customer used in this projetc.....-> {}\\n'.format(len(data)))\n",
    "data.columns"
   ]
  },
  {
   "cell_type": "code",
   "execution_count": 4,
   "id": "51e23e06",
   "metadata": {},
   "outputs": [
    {
     "data": {
      "text/plain": [
       "3280"
      ]
     },
     "execution_count": 4,
     "metadata": {},
     "output_type": "execute_result"
    }
   ],
   "source": [
    "len(data)"
   ]
  },
  {
   "cell_type": "code",
   "execution_count": 5,
   "id": "d4ee2f2b",
   "metadata": {},
   "outputs": [
    {
     "name": "stdout",
     "output_type": "stream",
     "text": [
      "############# (3280, 11) ###################\n",
      "       SOMMEUTILISEE  NbrConommable   NbrDevices      Parrain     annee_BL  \\\n",
      "count   3.280000e+03    3280.000000  3280.000000  3280.000000  3243.000000   \n",
      "mean    5.898542e+03      12.185264     1.840244     0.022561  2020.525439   \n",
      "std     4.830707e+04      84.121017     9.008726     0.154559     0.938032   \n",
      "min    -7.584000e+01       0.000000     0.000000     0.000000  2017.000000   \n",
      "25%     2.470835e+03       4.000000     1.000000     0.000000  2020.000000   \n",
      "50%     3.033320e+03       6.000000     1.000000     0.000000  2021.000000   \n",
      "75%     4.041425e+03      10.000000     1.000000     0.000000  2021.000000   \n",
      "max     2.465086e+06    4266.000000   374.000000     2.000000  2021.000000   \n",
      "\n",
      "       duree_de_vie  \n",
      "count   3243.000000  \n",
      "mean       0.734505  \n",
      "std        0.957520  \n",
      "min        0.000000  \n",
      "25%        0.000000  \n",
      "50%        0.000000  \n",
      "75%        1.000000  \n",
      "max        4.000000  \n"
     ]
    }
   ],
   "source": [
    "print('#############',data.shape,'###################')\n",
    "print(data.describe())\n"
   ]
  },
  {
   "cell_type": "code",
   "execution_count": 6,
   "id": "b74cb16c",
   "metadata": {},
   "outputs": [
    {
     "data": {
      "text/plain": [
       "(37, 11)"
      ]
     },
     "execution_count": 6,
     "metadata": {},
     "output_type": "execute_result"
    }
   ],
   "source": [
    "#verification of NA values existance\n",
    "NaValues = data[pd.isnull(data).any(axis=1)]\n",
    "NaValues.shape"
   ]
  },
  {
   "cell_type": "code",
   "execution_count": 7,
   "id": "5bb5eddb",
   "metadata": {},
   "outputs": [],
   "source": [
    "#NaValues.to_csv('data/NaValues.csv',sep =';')"
   ]
  },
  {
   "cell_type": "code",
   "execution_count": 8,
   "id": "508e8cb5",
   "metadata": {},
   "outputs": [
    {
     "data": {
      "text/plain": [
       "TIERS                  0\n",
       "DATECREATION           0\n",
       "LIBELLE_CODE_STAT2     0\n",
       "SOMMEUTILISEE          0\n",
       "NbrConommable          0\n",
       "NbrDevices             0\n",
       "Parrain                0\n",
       "DERNIEREDATEACHAT      0\n",
       "DERNIEREDATEBL        37\n",
       "annee_BL              37\n",
       "duree_de_vie          37\n",
       "dtype: int64"
      ]
     },
     "execution_count": 8,
     "metadata": {},
     "output_type": "execute_result"
    }
   ],
   "source": [
    "data.isnull().sum()"
   ]
  },
  {
   "cell_type": "code",
   "execution_count": 9,
   "id": "fa56a305",
   "metadata": {},
   "outputs": [
    {
     "data": {
      "text/plain": [
       "TIERS                 0\n",
       "DATECREATION          0\n",
       "LIBELLE_CODE_STAT2    0\n",
       "SOMMEUTILISEE         0\n",
       "NbrConommable         0\n",
       "NbrDevices            0\n",
       "Parrain               0\n",
       "DERNIEREDATEACHAT     0\n",
       "DERNIEREDATEBL        0\n",
       "annee_BL              0\n",
       "duree_de_vie          0\n",
       "dtype: int64"
      ]
     },
     "execution_count": 9,
     "metadata": {},
     "output_type": "execute_result"
    }
   ],
   "source": [
    "#delating NA values\n",
    "data.dropna(inplace=True)\n",
    "data.isnull().sum()"
   ]
  },
  {
   "cell_type": "code",
   "execution_count": 10,
   "id": "ba4e15da",
   "metadata": {},
   "outputs": [
    {
     "data": {
      "text/plain": [
       "(27, 11)"
      ]
     },
     "execution_count": 10,
     "metadata": {},
     "output_type": "execute_result"
    }
   ],
   "source": [
    "#verification of NA values existance\n",
    "NullConso = data[(data[\"SOMMEUTILISEE\"] < 0)|(data[\"NbrConommable\"]==0)]\n",
    "NullConso.shape\n",
    "#NullConso.to_csv('data/nulleConso.csv',sep =';')"
   ]
  },
  {
   "cell_type": "markdown",
   "id": "7afd3fbe",
   "metadata": {},
   "source": [
    "###### we'll keep non negative amount  and no null NbrDevices and NbrConommable in the dataset\n",
    "###### NO DEVICVE NO CONSUMABLE NO MONEY"
   ]
  },
  {
   "cell_type": "code",
   "execution_count": 11,
   "id": "d248b085",
   "metadata": {},
   "outputs": [
    {
     "name": "stdout",
     "output_type": "stream",
     "text": [
      "############# (3182, 11) ###################\n",
      "       SOMMEUTILISEE  NbrConommable   NbrDevices      Parrain     annee_BL  \\\n",
      "count   3.182000e+03    3182.000000  3182.000000  3182.000000  3182.000000   \n",
      "mean    6.005283e+03      12.439242     1.878693     0.023256  2020.548712   \n",
      "std     4.902135e+04      85.379692     9.141267     0.156870     0.914439   \n",
      "min     4.939600e+02       1.000000     1.000000     0.000000  2017.000000   \n",
      "25%     2.512015e+03       4.000000     1.000000     0.000000  2020.000000   \n",
      "50%     3.052390e+03       6.000000     1.000000     0.000000  2021.000000   \n",
      "75%     4.094530e+03      10.000000     1.000000     0.000000  2021.000000   \n",
      "max     2.465086e+06    4266.000000   374.000000     2.000000  2021.000000   \n",
      "\n",
      "       duree_de_vie  \n",
      "count   3182.000000  \n",
      "mean       0.744500  \n",
      "std        0.958635  \n",
      "min        0.000000  \n",
      "25%        0.000000  \n",
      "50%        0.000000  \n",
      "75%        1.000000  \n",
      "max        4.000000  \n"
     ]
    }
   ],
   "source": [
    "\n",
    "data = data[(data[\"SOMMEUTILISEE\"] > 0)&(data[\"NbrConommable\"]!=0)]\n",
    "data = data[data[\"NbrDevices\"]!=0]\n",
    "print('#############',data.shape,'###################')\n",
    "print(data.describe())"
   ]
  },
  {
   "cell_type": "code",
   "execution_count": 12,
   "id": "93070ef8",
   "metadata": {},
   "outputs": [
    {
     "data": {
      "text/plain": [
       "(1122, 12)"
      ]
     },
     "execution_count": 12,
     "metadata": {},
     "output_type": "execute_result"
    }
   ],
   "source": [
    "data['DATECREATION'] = pd.to_datetime(data['DATECREATION'])\n",
    "data['anneeCreation'] = data['DATECREATION'].dt.year\n",
    "df = data[data['anneeCreation']==2021]\n",
    "df.shape\n",
    "#df.to_csv('data/client2021.csv',sep=';')"
   ]
  },
  {
   "cell_type": "code",
   "execution_count": 13,
   "id": "13ef5c4b",
   "metadata": {},
   "outputs": [
    {
     "data": {
      "text/plain": [
       "(2060, 12)"
      ]
     },
     "execution_count": 13,
     "metadata": {},
     "output_type": "execute_result"
    }
   ],
   "source": [
    "##### we'll take off customer wich are created in 2021\n",
    "data = data[data['anneeCreation']!=2021]\n",
    "data.shape"
   ]
  },
  {
   "cell_type": "markdown",
   "id": "be860feb",
   "metadata": {},
   "source": [
    "##### \"Durée-de_vie\" expressed the recence of customers' commande.\n",
    "if equal to zero, customers last command was at 2021"
   ]
  },
  {
   "cell_type": "code",
   "execution_count": 14,
   "id": "afb85e9b",
   "metadata": {},
   "outputs": [
    {
     "data": {
      "text/plain": [
       "<AxesSubplot:title={'center':\" customer's lifetime \"}, ylabel='duree_de_vie'>"
      ]
     },
     "execution_count": 14,
     "metadata": {},
     "output_type": "execute_result"
    },
    {
     "data": {
      "image/png": "[encoded data removed]",
      "text/plain": [
       "<Figure size 640x640 with 1 Axes>"
      ]
     },
     "metadata": {},
     "output_type": "display_data"
    }
   ],
   "source": [
    "#Durée de vie des clients\n",
    "plt.figure(figsize=(8,8), dpi=80)\n",
    "data['duree_de_vie'].value_counts().plot.pie(autopct=\"%.1f%%\", title = \" customer's lifetime \")\n"
   ]
  },
  {
   "cell_type": "markdown",
   "id": "e10484c5",
   "metadata": {},
   "source": [
    "## II) Calculating RFM metrics"
   ]
  },
  {
   "cell_type": "markdown",
   "id": "f365884b",
   "metadata": {},
   "source": [
    "## RECENCY"
   ]
  },
  {
   "cell_type": "code",
   "execution_count": 15,
   "id": "af383cf8",
   "metadata": {},
   "outputs": [
    {
     "data": {
      "text/plain": [
       "(2060, 13)"
      ]
     },
     "execution_count": 15,
     "metadata": {},
     "output_type": "execute_result"
    }
   ],
   "source": [
    "data['RECENCYy'] = data['annee_BL'] \n",
    "data['RECENCYy'].value_counts()\n",
    "data.shape"
   ]
  },
  {
   "cell_type": "markdown",
   "id": "24ca900f",
   "metadata": {},
   "source": [
    "##### \"Durée-de_vie\" expressed the recence of customers' commande.\n",
    "if equal to zero, customers last command was at 2021, this current year. \n",
    "Later, we need to divide by \"Durée-de_vie\" to get quantities in  1 year and not in 3. \n",
    "So we are going to add 1 in order to get \"Durée-de_vie\" from 1 to 5"
   ]
  },
  {
   "cell_type": "code",
   "execution_count": null,
   "id": "66a736d2",
   "metadata": {},
   "outputs": [],
   "source": [
    "def RECENCE(x):\n",
    "    return x+1"
   ]
  },
  {
   "cell_type": "code",
   "execution_count": null,
   "id": "b8a186c6",
   "metadata": {},
   "outputs": [],
   "source": [
    "data['RECENCY']= data['duree_de_vie']\n",
    "data['RECENCY']=data['RECENCY'].apply(RECENCE)\n",
    "data.RECENCY.describe()"
   ]
  },
  {
   "cell_type": "code",
   "execution_count": null,
   "id": "ce070fb6",
   "metadata": {},
   "outputs": [],
   "source": [
    "plot = data['RECENCY'].value_counts().plot.pie(autopct=\"%.1f%%\", title = \" customer's Recency \",figsize=(5, 5))"
   ]
  },
  {
   "cell_type": "markdown",
   "id": "20ed3a8a",
   "metadata": {},
   "source": [
    "## FREQUENCY"
   ]
  },
  {
   "cell_type": "markdown",
   "id": "5ab65423",
   "metadata": {},
   "source": [
    "#####  For NbrDevices = 1, number of consommable for 3 years must be 18, so for 1 year,number of consumable = 6\n",
    "#####  For NbrDevices = N and for 1 years, number of consommable = 6*N \n",
    "### If the customer has odered consumable = NbrConsumable, devices = NbrDevices \n",
    "#####  We can calculate his order's average and for 1 device and during his cycle's life\n",
    "#####  Finally, The frequency of ordering of the customer will be   Frequency = number of consumable/NbrDevices/Age\n",
    "\n"
   ]
  },
  {
   "cell_type": "code",
   "execution_count": null,
   "id": "06717b77",
   "metadata": {},
   "outputs": [],
   "source": [
    "data['FREQUENCY'] = data['NbrConommable']/(data['NbrDevices'])\n",
    "data['FREQUENCY'] = data['FREQUENCY']/data['RECENCY']\n",
    "data['FREQUENCY'] = data['FREQUENCY'].round(0)\n",
    "data.info()"
   ]
  },
  {
   "cell_type": "code",
   "execution_count": null,
   "id": "9f6d08ac",
   "metadata": {},
   "outputs": [],
   "source": [
    "def cat_summary(dataframe, col_name, plot=False):\n",
    "    if plot:\n",
    "        fig_dims = (10, 10)\n",
    "        fig, ax = plt.subplots(figsize=fig_dims)\n",
    "        sns.countplot(x=dataframe[col_name], data=dataframe)\n",
    "        plt.xticks(rotation = 45, ha = 'right')\n",
    "        plt.title(\"Customer's Recency\")\n",
    "        plt.show()\n",
    "      \n",
    "\n",
    "cat_summary(data, \"FREQUENCY\", plot=True)"
   ]
  },
  {
   "cell_type": "code",
   "execution_count": null,
   "id": "9bac847b",
   "metadata": {},
   "outputs": [],
   "source": [
    "#data[data['FREQUENCY']<9].describe()"
   ]
  },
  {
   "cell_type": "markdown",
   "id": "fe3366de",
   "metadata": {},
   "source": [
    "## MONETARY"
   ]
  },
  {
   "cell_type": "code",
   "execution_count": 22,
   "id": "14433ab4",
   "metadata": {},
   "outputs": [
    {
     "data": {
      "text/plain": [
       "count      2060.000000\n",
       "mean       3049.100203\n",
       "std       15721.786234\n",
       "min         164.653333\n",
       "25%        1365.567500\n",
       "50%        1784.533333\n",
       "75%        2441.092500\n",
       "max      616271.570000\n",
       "Name: MONETARY, dtype: float64"
      ]
     },
     "execution_count": 22,
     "metadata": {},
     "output_type": "execute_result"
    }
   ],
   "source": [
    "data['MONETARY'] = data['SOMMEUTILISEE']/data['NbrDevices']\n",
    "data['MONETARY'] = data['SOMMEUTILISEE']/data['RECENCY']\n",
    "data.MONETARY.describe()"
   ]
  },
  {
   "cell_type": "code",
   "execution_count": 23,
   "id": "b21baa7f",
   "metadata": {},
   "outputs": [
    {
     "name": "stdout",
     "output_type": "stream",
     "text": [
      "############# (2060, 4) ###################\n"
     ]
    },
    {
     "data": {
      "text/html": [
       "<div>\n",
       "<style scoped>\n",
       "    .dataframe tbody tr th:only-of-type {\n",
       "        vertical-align: middle;\n",
       "    }\n",
       "\n",
       "    .dataframe tbody tr th {\n",
       "        vertical-align: top;\n",
       "    }\n",
       "\n",
       "    .dataframe thead th {\n",
       "        text-align: right;\n",
       "    }\n",
       "</style>\n",
       "<table border=\"1\" class=\"dataframe\">\n",
       "  <thead>\n",
       "    <tr style=\"text-align: right;\">\n",
       "      <th></th>\n",
       "      <th>TIERS</th>\n",
       "      <th>RECENCYy</th>\n",
       "      <th>FREQUENCY</th>\n",
       "      <th>MONETARY</th>\n",
       "    </tr>\n",
       "  </thead>\n",
       "  <tbody>\n",
       "    <tr>\n",
       "      <th>0</th>\n",
       "      <td>C0000007</td>\n",
       "      <td>2020.0</td>\n",
       "      <td>6.0</td>\n",
       "      <td>2752.220</td>\n",
       "    </tr>\n",
       "    <tr>\n",
       "      <th>1</th>\n",
       "      <td>C0000011</td>\n",
       "      <td>2021.0</td>\n",
       "      <td>2.0</td>\n",
       "      <td>31621.472</td>\n",
       "    </tr>\n",
       "    <tr>\n",
       "      <th>2</th>\n",
       "      <td>C0000013</td>\n",
       "      <td>2021.0</td>\n",
       "      <td>1.0</td>\n",
       "      <td>3320.692</td>\n",
       "    </tr>\n",
       "    <tr>\n",
       "      <th>3</th>\n",
       "      <td>C0000015</td>\n",
       "      <td>2021.0</td>\n",
       "      <td>3.0</td>\n",
       "      <td>4520.104</td>\n",
       "    </tr>\n",
       "    <tr>\n",
       "      <th>4</th>\n",
       "      <td>C0000016</td>\n",
       "      <td>2021.0</td>\n",
       "      <td>2.0</td>\n",
       "      <td>7689.248</td>\n",
       "    </tr>\n",
       "  </tbody>\n",
       "</table>\n",
       "</div>"
      ],
      "text/plain": [
       "      TIERS  RECENCYy  FREQUENCY   MONETARY\n",
       "0  C0000007    2020.0        6.0   2752.220\n",
       "1  C0000011    2021.0        2.0  31621.472\n",
       "2  C0000013    2021.0        1.0   3320.692\n",
       "3  C0000015    2021.0        3.0   4520.104\n",
       "4  C0000016    2021.0        2.0   7689.248"
      ]
     },
     "execution_count": 23,
     "metadata": {},
     "output_type": "execute_result"
    }
   ],
   "source": [
    "RFM = data.filter(items=['TIERS','RECENCYy','FREQUENCY','MONETARY'])\n",
    "print('#############',RFM.shape,'###################')\n",
    "RFM.head()"
   ]
  },
  {
   "cell_type": "code",
   "execution_count": 24,
   "id": "afff0224",
   "metadata": {},
   "outputs": [
    {
     "data": {
      "text/html": [
       "<div>\n",
       "<style scoped>\n",
       "    .dataframe tbody tr th:only-of-type {\n",
       "        vertical-align: middle;\n",
       "    }\n",
       "\n",
       "    .dataframe tbody tr th {\n",
       "        vertical-align: top;\n",
       "    }\n",
       "\n",
       "    .dataframe thead th {\n",
       "        text-align: right;\n",
       "    }\n",
       "</style>\n",
       "<table border=\"1\" class=\"dataframe\">\n",
       "  <thead>\n",
       "    <tr style=\"text-align: right;\">\n",
       "      <th></th>\n",
       "      <th>RECENCYy</th>\n",
       "      <th>FREQUENCY</th>\n",
       "      <th>MONETARY</th>\n",
       "    </tr>\n",
       "  </thead>\n",
       "  <tbody>\n",
       "    <tr>\n",
       "      <th>count</th>\n",
       "      <td>2060.000000</td>\n",
       "      <td>2060.000000</td>\n",
       "      <td>2060.000000</td>\n",
       "    </tr>\n",
       "    <tr>\n",
       "      <th>mean</th>\n",
       "      <td>2020.302913</td>\n",
       "      <td>3.684466</td>\n",
       "      <td>3049.100203</td>\n",
       "    </tr>\n",
       "    <tr>\n",
       "      <th>std</th>\n",
       "      <td>1.058508</td>\n",
       "      <td>1.874253</td>\n",
       "      <td>15721.786234</td>\n",
       "    </tr>\n",
       "    <tr>\n",
       "      <th>min</th>\n",
       "      <td>2017.000000</td>\n",
       "      <td>0.000000</td>\n",
       "      <td>164.653333</td>\n",
       "    </tr>\n",
       "    <tr>\n",
       "      <th>25%</th>\n",
       "      <td>2020.000000</td>\n",
       "      <td>2.000000</td>\n",
       "      <td>1365.567500</td>\n",
       "    </tr>\n",
       "    <tr>\n",
       "      <th>50%</th>\n",
       "      <td>2021.000000</td>\n",
       "      <td>4.000000</td>\n",
       "      <td>1784.533333</td>\n",
       "    </tr>\n",
       "    <tr>\n",
       "      <th>75%</th>\n",
       "      <td>2021.000000</td>\n",
       "      <td>5.000000</td>\n",
       "      <td>2441.092500</td>\n",
       "    </tr>\n",
       "    <tr>\n",
       "      <th>max</th>\n",
       "      <td>2021.000000</td>\n",
       "      <td>22.000000</td>\n",
       "      <td>616271.570000</td>\n",
       "    </tr>\n",
       "  </tbody>\n",
       "</table>\n",
       "</div>"
      ],
      "text/plain": [
       "          RECENCYy    FREQUENCY       MONETARY\n",
       "count  2060.000000  2060.000000    2060.000000\n",
       "mean   2020.302913     3.684466    3049.100203\n",
       "std       1.058508     1.874253   15721.786234\n",
       "min    2017.000000     0.000000     164.653333\n",
       "25%    2020.000000     2.000000    1365.567500\n",
       "50%    2021.000000     4.000000    1784.533333\n",
       "75%    2021.000000     5.000000    2441.092500\n",
       "max    2021.000000    22.000000  616271.570000"
      ]
     },
     "execution_count": 24,
     "metadata": {},
     "output_type": "execute_result"
    }
   ],
   "source": [
    "RFM.describe()"
   ]
  },
  {
   "cell_type": "markdown",
   "id": "be392726",
   "metadata": {},
   "source": [
    "# III)  CALCULATING RFM SCORES"
   ]
  },
  {
   "cell_type": "markdown",
   "id": "70e17735",
   "metadata": {},
   "source": [
    "## SEGMENTATION OF METRICS"
   ]
  },
  {
   "cell_type": "markdown",
   "id": "88fcb441",
   "metadata": {},
   "source": [
    "### RECENCY SCORE"
   ]
  },
  {
   "cell_type": "code",
   "execution_count": 25,
   "id": "62e2d5a1",
   "metadata": {},
   "outputs": [
    {
     "data": {
      "text/html": [
       "<div>\n",
       "<style scoped>\n",
       "    .dataframe tbody tr th:only-of-type {\n",
       "        vertical-align: middle;\n",
       "    }\n",
       "\n",
       "    .dataframe tbody tr th {\n",
       "        vertical-align: top;\n",
       "    }\n",
       "\n",
       "    .dataframe thead th {\n",
       "        text-align: right;\n",
       "    }\n",
       "</style>\n",
       "<table border=\"1\" class=\"dataframe\">\n",
       "  <thead>\n",
       "    <tr style=\"text-align: right;\">\n",
       "      <th></th>\n",
       "      <th>TIERS</th>\n",
       "      <th>RECENCYy</th>\n",
       "      <th>FREQUENCY</th>\n",
       "      <th>MONETARY</th>\n",
       "      <th>RecencyScore</th>\n",
       "    </tr>\n",
       "  </thead>\n",
       "  <tbody>\n",
       "    <tr>\n",
       "      <th>0</th>\n",
       "      <td>C0000007</td>\n",
       "      <td>2020.0</td>\n",
       "      <td>6.0</td>\n",
       "      <td>2752.220</td>\n",
       "      <td>4</td>\n",
       "    </tr>\n",
       "    <tr>\n",
       "      <th>1</th>\n",
       "      <td>C0000011</td>\n",
       "      <td>2021.0</td>\n",
       "      <td>2.0</td>\n",
       "      <td>31621.472</td>\n",
       "      <td>5</td>\n",
       "    </tr>\n",
       "    <tr>\n",
       "      <th>2</th>\n",
       "      <td>C0000013</td>\n",
       "      <td>2021.0</td>\n",
       "      <td>1.0</td>\n",
       "      <td>3320.692</td>\n",
       "      <td>5</td>\n",
       "    </tr>\n",
       "    <tr>\n",
       "      <th>3</th>\n",
       "      <td>C0000015</td>\n",
       "      <td>2021.0</td>\n",
       "      <td>3.0</td>\n",
       "      <td>4520.104</td>\n",
       "      <td>5</td>\n",
       "    </tr>\n",
       "    <tr>\n",
       "      <th>4</th>\n",
       "      <td>C0000016</td>\n",
       "      <td>2021.0</td>\n",
       "      <td>2.0</td>\n",
       "      <td>7689.248</td>\n",
       "      <td>5</td>\n",
       "    </tr>\n",
       "  </tbody>\n",
       "</table>\n",
       "</div>"
      ],
      "text/plain": [
       "      TIERS  RECENCYy  FREQUENCY   MONETARY RecencyScore\n",
       "0  C0000007    2020.0        6.0   2752.220            4\n",
       "1  C0000011    2021.0        2.0  31621.472            5\n",
       "2  C0000013    2021.0        1.0   3320.692            5\n",
       "3  C0000015    2021.0        3.0   4520.104            5\n",
       "4  C0000016    2021.0        2.0   7689.248            5"
      ]
     },
     "execution_count": 25,
     "metadata": {},
     "output_type": "execute_result"
    }
   ],
   "source": [
    "x = RFM['RECENCYy']\n",
    "BIN =[0,2017,2018,2019,2020,2021]\n",
    "RFM['RecencyScore'] = pd.cut(x,BIN, labels=[-2,-1,0,4,5])\n",
    "RFM.head()"
   ]
  },
  {
   "cell_type": "code",
   "execution_count": 26,
   "id": "b5070f60",
   "metadata": {},
   "outputs": [
    {
     "data": {
      "image/png": "[encoded data removed]",
      "text/plain": [
       "<Figure size 360x360 with 1 Axes>"
      ]
     },
     "metadata": {},
     "output_type": "display_data"
    }
   ],
   "source": [
    "plot = RFM['RecencyScore'].value_counts().plot.pie(autopct=\"%.1f%%\", title = \" customer's Recency Score \",figsize=(5, 5))"
   ]
  },
  {
   "cell_type": "markdown",
   "id": "e94bbc1d",
   "metadata": {},
   "source": [
    "### FREQUENCY SCORE"
   ]
  },
  {
   "cell_type": "code",
   "execution_count": 27,
   "id": "ebeedd38",
   "metadata": {},
   "outputs": [
    {
     "data": {
      "text/plain": [
       "4.0     554\n",
       "2.0     481\n",
       "3.0     387\n",
       "6.0     237\n",
       "5.0     214\n",
       "1.0     114\n",
       "7.0      29\n",
       "8.0      14\n",
       "12.0      7\n",
       "9.0       6\n",
       "10.0      5\n",
       "0.0       4\n",
       "15.0      2\n",
       "20.0      2\n",
       "18.0      1\n",
       "21.0      1\n",
       "11.0      1\n",
       "22.0      1\n",
       "Name: FREQUENCY, dtype: int64"
      ]
     },
     "execution_count": 27,
     "metadata": {},
     "output_type": "execute_result"
    }
   ],
   "source": [
    "RFM.FREQUENCY.value_counts(dropna=False)"
   ]
  },
  {
   "cell_type": "code",
   "execution_count": 28,
   "id": "fe1586df",
   "metadata": {},
   "outputs": [
    {
     "data": {
      "text/plain": [
       "22.0"
      ]
     },
     "execution_count": 28,
     "metadata": {},
     "output_type": "execute_result"
    }
   ],
   "source": [
    "RFM['FREQUENCY']= RFM['FREQUENCY'].round()\n",
    "y = RFM['FREQUENCY']\n",
    "y_max = y.max()\n",
    "y_max"
   ]
  },
  {
   "cell_type": "code",
   "execution_count": 29,
   "id": "74b48a78",
   "metadata": {},
   "outputs": [
    {
     "name": "stdout",
     "output_type": "stream",
     "text": [
      "<class 'pandas.core.frame.DataFrame'>\n",
      "Int64Index: 2060 entries, 0 to 2125\n",
      "Data columns (total 6 columns):\n",
      " #   Column          Non-Null Count  Dtype   \n",
      "---  ------          --------------  -----   \n",
      " 0   TIERS           2060 non-null   object  \n",
      " 1   RECENCYy        2060 non-null   float64 \n",
      " 2   FREQUENCY       2060 non-null   float64 \n",
      " 3   MONETARY        2060 non-null   float64 \n",
      " 4   RecencyScore    2060 non-null   category\n",
      " 5   FrequencyScore  2060 non-null   category\n",
      "dtypes: category(2), float64(3), object(1)\n",
      "memory usage: 149.4+ KB\n"
     ]
    }
   ],
   "source": [
    "RFM['FrequencyScore'] = pd.cut(y,[0,2,3,4,5,y_max+1],right=False, labels=[1,2,3,4,5])\n",
    "RFM.info()\n"
   ]
  },
  {
   "cell_type": "code",
   "execution_count": 30,
   "id": "b0e300b0",
   "metadata": {},
   "outputs": [
    {
     "data": {
      "text/plain": [
       "False    2060\n",
       "Name: FrequencyScore, dtype: int64"
      ]
     },
     "execution_count": 30,
     "metadata": {},
     "output_type": "execute_result"
    }
   ],
   "source": [
    "RFM['FrequencyScore'].isnull().value_counts()"
   ]
  },
  {
   "cell_type": "code",
   "execution_count": 31,
   "id": "83f6923b",
   "metadata": {},
   "outputs": [
    {
     "data": {
      "image/png": "[encoded data removed]",
      "text/plain": [
       "<Figure size 360x360 with 1 Axes>"
      ]
     },
     "metadata": {
      "needs_background": "light"
     },
     "output_type": "display_data"
    }
   ],
   "source": [
    "def cat_summary(dataframe, col_name, plot=False):\n",
    "    if plot:\n",
    "        fig_dims = (5, 5)\n",
    "        fig, ax = plt.subplots(figsize=fig_dims)\n",
    "        sns.countplot(x=dataframe[col_name], data=dataframe)\n",
    "        plt.xticks(rotation = 45, ha = 'right')\n",
    "        plt.title(\"Customer's Frequency Score\")\n",
    "        plt.show()\n",
    "      \n",
    "\n",
    "cat_summary(RFM, \"FrequencyScore\", plot=True)"
   ]
  },
  {
   "cell_type": "code",
   "execution_count": 32,
   "id": "2db5ad26",
   "metadata": {},
   "outputs": [],
   "source": [
    "# RFM.FrequencyScore.value_counts().plot.pie(autopct=\"%.1f%%\")"
   ]
  },
  {
   "cell_type": "markdown",
   "id": "899fa6fa",
   "metadata": {},
   "source": [
    "### MONETARY SCORE"
   ]
  },
  {
   "cell_type": "code",
   "execution_count": 33,
   "id": "5c8b398c",
   "metadata": {},
   "outputs": [],
   "source": [
    "z = RFM['MONETARY']\n",
    "z_max = z.max()"
   ]
  },
  {
   "cell_type": "code",
   "execution_count": 34,
   "id": "eb6f747e",
   "metadata": {},
   "outputs": [
    {
     "data": {
      "text/plain": [
       "count      2060.000000\n",
       "mean       3049.100203\n",
       "std       15721.786234\n",
       "min         164.653333\n",
       "25%        1365.567500\n",
       "50%        1784.533333\n",
       "75%        2441.092500\n",
       "max      616271.570000\n",
       "Name: MONETARY, dtype: float64"
      ]
     },
     "execution_count": 34,
     "metadata": {},
     "output_type": "execute_result"
    }
   ],
   "source": [
    "z.describe()"
   ]
  },
  {
   "cell_type": "code",
   "execution_count": 35,
   "id": "633386f1",
   "metadata": {},
   "outputs": [
    {
     "data": {
      "text/plain": [
       "[0, 1365.5675, 1784.5333333333333, 2441.0925, 3007.456, 616271.5700000001]"
      ]
     },
     "execution_count": 35,
     "metadata": {},
     "output_type": "execute_result"
    }
   ],
   "source": [
    "Bin =  [0,np.quantile(z, .25), np.quantile(z, .50), np.quantile(z, .75), np.quantile(z, 0.85),z_max]\n",
    "Bin"
   ]
  },
  {
   "cell_type": "code",
   "execution_count": 36,
   "id": "f2b6d6a9",
   "metadata": {},
   "outputs": [
    {
     "data": {
      "text/plain": [
       "count     2060\n",
       "unique       5\n",
       "top          1\n",
       "freq       515\n",
       "Name: MonetaryScore, dtype: int64"
      ]
     },
     "execution_count": 36,
     "metadata": {},
     "output_type": "execute_result"
    }
   ],
   "source": [
    "RFM['MonetaryScore'] = pd.cut(z,Bin, labels=[1,2,3,4,5])\n",
    "RFM.MonetaryScore.describe()"
   ]
  },
  {
   "cell_type": "code",
   "execution_count": 37,
   "id": "c2264315",
   "metadata": {},
   "outputs": [
    {
     "data": {
      "text/plain": [
       "<AxesSubplot:ylabel='MonetaryScore'>"
      ]
     },
     "execution_count": 37,
     "metadata": {},
     "output_type": "execute_result"
    },
    {
     "data": {
      "image/png": "[encoded data removed]",
      "text/plain": [
       "<Figure size 432x288 with 1 Axes>"
      ]
     },
     "metadata": {},
     "output_type": "display_data"
    }
   ],
   "source": [
    "RFM.MonetaryScore.value_counts().plot.pie(autopct=\"%.1f%%\")"
   ]
  },
  {
   "cell_type": "code",
   "execution_count": 38,
   "id": "1ac0aaa7",
   "metadata": {},
   "outputs": [],
   "source": [
    "RFM[\"RFM_GROUP\"] = RFM[\"RecencyScore\"].astype(str) +RFM[\"FrequencyScore\"].astype(str)+ RFM[\"MonetaryScore\"].astype(str)"
   ]
  },
  {
   "cell_type": "code",
   "execution_count": 39,
   "id": "5b7f9c41",
   "metadata": {},
   "outputs": [
    {
     "data": {
      "text/plain": [
       "542     173\n",
       "553     157\n",
       "521     140\n",
       "531      88\n",
       "543      84\n",
       "       ... \n",
       "-252      1\n",
       "-111      1\n",
       "-124      1\n",
       "-131      1\n",
       "012       1\n",
       "Name: RFM_GROUP, Length: 105, dtype: int64"
      ]
     },
     "execution_count": 39,
     "metadata": {},
     "output_type": "execute_result"
    }
   ],
   "source": [
    "RFM.RFM_GROUP.value_counts(dropna=False)"
   ]
  },
  {
   "cell_type": "code",
   "execution_count": 40,
   "id": "5ec30885",
   "metadata": {},
   "outputs": [
    {
     "data": {
      "text/plain": [
       "TIERS             0\n",
       "RECENCYy          0\n",
       "FREQUENCY         0\n",
       "MONETARY          0\n",
       "RecencyScore      0\n",
       "FrequencyScore    0\n",
       "MonetaryScore     0\n",
       "RFM_GROUP         0\n",
       "RFM_SCORE         0\n",
       "dtype: int64"
      ]
     },
     "execution_count": 40,
     "metadata": {},
     "output_type": "execute_result"
    }
   ],
   "source": [
    "RFM['RFM_SCORE'] = RFM[['RecencyScore','FrequencyScore', 'MonetaryScore']].sum(axis=1)\n",
    "RFM.isnull().sum()"
   ]
  },
  {
   "cell_type": "code",
   "execution_count": null,
   "id": "a7258b7f",
   "metadata": {},
   "outputs": [],
   "source": []
  },
  {
   "cell_type": "code",
   "execution_count": 41,
   "id": "c8da9e9a",
   "metadata": {},
   "outputs": [],
   "source": [
    "loyalty_level = ['Lost','To_relance','Medium','Good','Excellent']\n",
    "BIN = [0,4,7,10,14,16]"
   ]
  },
  {
   "cell_type": "code",
   "execution_count": 42,
   "id": "9573c462",
   "metadata": {},
   "outputs": [],
   "source": [
    "Score_cuts = pd.cut(RFM.RFM_SCORE,BIN,labels=loyalty_level)"
   ]
  },
  {
   "cell_type": "code",
   "execution_count": 43,
   "id": "df23b783",
   "metadata": {},
   "outputs": [],
   "source": [
    "RFM['loyalty_level'] = Score_cuts.values"
   ]
  },
  {
   "cell_type": "code",
   "execution_count": 44,
   "id": "1cba115f",
   "metadata": {},
   "outputs": [
    {
     "data": {
      "text/plain": [
       "<AxesSubplot:title={'center':'Loyalty Level'}, ylabel='loyalty_level'>"
      ]
     },
     "execution_count": 44,
     "metadata": {},
     "output_type": "execute_result"
    },
    {
     "data": {
      "image/png": "[encoded data removed]",
      "text/plain": [
       "<Figure size 640x640 with 1 Axes>"
      ]
     },
     "metadata": {},
     "output_type": "display_data"
    }
   ],
   "source": [
    "plt.figure(figsize=(8,8), dpi=80)\n",
    "RFM['loyalty_level'].value_counts(dropna=False).plot.pie(autopct=\"%.1f%%\", title = \"Loyalty Level\")"
   ]
  },
  {
   "cell_type": "code",
   "execution_count": 45,
   "id": "8bc38c3f",
   "metadata": {},
   "outputs": [
    {
     "data": {
      "text/plain": [
       "TIERS             0\n",
       "RecencyScore      0\n",
       "FrequencyScore    0\n",
       "MonetaryScore     0\n",
       "RFM_GROUP         0\n",
       "RFM_SCORE         0\n",
       "loyalty_level     0\n",
       "dtype: int64"
      ]
     },
     "execution_count": 45,
     "metadata": {},
     "output_type": "execute_result"
    }
   ],
   "source": [
    "# data['loyalty_level'] =  RFM['loyalty_level']\n",
    "# data['RFM_GROUP'] =  RFM['RFM_GROUP']\n",
    "# data['RFM_SCORE'] =  RFM['RFM_SCORE']\n",
    "RFMseg = RFM[[\"TIERS\",\"RecencyScore\",\"FrequencyScore\",\"MonetaryScore\",\"RFM_GROUP\",\"RFM_SCORE\",\"loyalty_level\"]]\n",
    "RFMseg.isnull().sum()"
   ]
  },
  {
   "cell_type": "code",
   "execution_count": 46,
   "id": "765ca18d",
   "metadata": {},
   "outputs": [],
   "source": [
    "DATAseg = data.filter(items=['TIERS','DATECREATION','LIBELLE_CODE_STAT2','annee_BL'])"
   ]
  },
  {
   "cell_type": "code",
   "execution_count": 57,
   "id": "19080b0e",
   "metadata": {},
   "outputs": [
    {
     "data": {
      "text/html": [
       "<div>\n",
       "<style scoped>\n",
       "    .dataframe tbody tr th:only-of-type {\n",
       "        vertical-align: middle;\n",
       "    }\n",
       "\n",
       "    .dataframe tbody tr th {\n",
       "        vertical-align: top;\n",
       "    }\n",
       "\n",
       "    .dataframe thead th {\n",
       "        text-align: right;\n",
       "    }\n",
       "</style>\n",
       "<table border=\"1\" class=\"dataframe\">\n",
       "  <thead>\n",
       "    <tr style=\"text-align: right;\">\n",
       "      <th></th>\n",
       "      <th>TIERS</th>\n",
       "      <th>RecencyScore</th>\n",
       "      <th>FrequencyScore</th>\n",
       "      <th>MonetaryScore</th>\n",
       "      <th>RFM_GROUP</th>\n",
       "      <th>RFM_SCORE</th>\n",
       "      <th>loyalty_level</th>\n",
       "      <th>DATECREATION</th>\n",
       "      <th>LIBELLE_CODE_STAT2</th>\n",
       "      <th>annee_BL</th>\n",
       "    </tr>\n",
       "  </thead>\n",
       "  <tbody>\n",
       "    <tr>\n",
       "      <th>1172</th>\n",
       "      <td>C0000843</td>\n",
       "      <td>5</td>\n",
       "      <td>5</td>\n",
       "      <td>5</td>\n",
       "      <td>555</td>\n",
       "      <td>15</td>\n",
       "      <td>Excellent</td>\n",
       "      <td>2020-04-29 09:20:08</td>\n",
       "      <td>Particulier</td>\n",
       "      <td>2021.0</td>\n",
       "    </tr>\n",
       "    <tr>\n",
       "      <th>1757</th>\n",
       "      <td>C0001287</td>\n",
       "      <td>5</td>\n",
       "      <td>5</td>\n",
       "      <td>5</td>\n",
       "      <td>555</td>\n",
       "      <td>15</td>\n",
       "      <td>Excellent</td>\n",
       "      <td>2020-07-01 17:58:55</td>\n",
       "      <td>Particulier</td>\n",
       "      <td>2021.0</td>\n",
       "    </tr>\n",
       "    <tr>\n",
       "      <th>671</th>\n",
       "      <td>C0000431</td>\n",
       "      <td>5</td>\n",
       "      <td>5</td>\n",
       "      <td>5</td>\n",
       "      <td>555</td>\n",
       "      <td>15</td>\n",
       "      <td>Excellent</td>\n",
       "      <td>2019-05-13 11:55:23</td>\n",
       "      <td>Particulier</td>\n",
       "      <td>2021.0</td>\n",
       "    </tr>\n",
       "    <tr>\n",
       "      <th>1044</th>\n",
       "      <td>C0000745</td>\n",
       "      <td>5</td>\n",
       "      <td>5</td>\n",
       "      <td>5</td>\n",
       "      <td>555</td>\n",
       "      <td>15</td>\n",
       "      <td>Excellent</td>\n",
       "      <td>2020-03-12 14:30:26</td>\n",
       "      <td>Particulier</td>\n",
       "      <td>2021.0</td>\n",
       "    </tr>\n",
       "    <tr>\n",
       "      <th>345</th>\n",
       "      <td>C0000254</td>\n",
       "      <td>5</td>\n",
       "      <td>5</td>\n",
       "      <td>5</td>\n",
       "      <td>555</td>\n",
       "      <td>15</td>\n",
       "      <td>Excellent</td>\n",
       "      <td>2018-06-27 11:12:08</td>\n",
       "      <td>Collectivité</td>\n",
       "      <td>2021.0</td>\n",
       "    </tr>\n",
       "    <tr>\n",
       "      <th>...</th>\n",
       "      <td>...</td>\n",
       "      <td>...</td>\n",
       "      <td>...</td>\n",
       "      <td>...</td>\n",
       "      <td>...</td>\n",
       "      <td>...</td>\n",
       "      <td>...</td>\n",
       "      <td>...</td>\n",
       "      <td>...</td>\n",
       "      <td>...</td>\n",
       "    </tr>\n",
       "    <tr>\n",
       "      <th>349</th>\n",
       "      <td>C1000718</td>\n",
       "      <td>0</td>\n",
       "      <td>3</td>\n",
       "      <td>1</td>\n",
       "      <td>031</td>\n",
       "      <td>4</td>\n",
       "      <td>Lost</td>\n",
       "      <td>2018-07-01 21:00:04</td>\n",
       "      <td>Particulier</td>\n",
       "      <td>2019.0</td>\n",
       "    </tr>\n",
       "    <tr>\n",
       "      <th>348</th>\n",
       "      <td>C1000706</td>\n",
       "      <td>-1</td>\n",
       "      <td>2</td>\n",
       "      <td>2</td>\n",
       "      <td>-122</td>\n",
       "      <td>3</td>\n",
       "      <td>Lost</td>\n",
       "      <td>2018-06-29 14:50:04</td>\n",
       "      <td>Particulier</td>\n",
       "      <td>2018.0</td>\n",
       "    </tr>\n",
       "    <tr>\n",
       "      <th>67</th>\n",
       "      <td>C0000076</td>\n",
       "      <td>-1</td>\n",
       "      <td>2</td>\n",
       "      <td>1</td>\n",
       "      <td>-121</td>\n",
       "      <td>2</td>\n",
       "      <td>Lost</td>\n",
       "      <td>2017-06-13 14:48:02</td>\n",
       "      <td>Pro. Tourisme</td>\n",
       "      <td>2018.0</td>\n",
       "    </tr>\n",
       "    <tr>\n",
       "      <th>127</th>\n",
       "      <td>C1000243</td>\n",
       "      <td>-2</td>\n",
       "      <td>2</td>\n",
       "      <td>2</td>\n",
       "      <td>-222</td>\n",
       "      <td>2</td>\n",
       "      <td>Lost</td>\n",
       "      <td>2017-07-31 16:20:07</td>\n",
       "      <td>Particulier</td>\n",
       "      <td>2017.0</td>\n",
       "    </tr>\n",
       "    <tr>\n",
       "      <th>397</th>\n",
       "      <td>C1000797</td>\n",
       "      <td>0</td>\n",
       "      <td>2</td>\n",
       "      <td>1</td>\n",
       "      <td>021</td>\n",
       "      <td>3</td>\n",
       "      <td>Lost</td>\n",
       "      <td>2018-07-10 17:00:12</td>\n",
       "      <td>Particulier</td>\n",
       "      <td>2019.0</td>\n",
       "    </tr>\n",
       "  </tbody>\n",
       "</table>\n",
       "<p>2060 rows × 10 columns</p>\n",
       "</div>"
      ],
      "text/plain": [
       "         TIERS RecencyScore FrequencyScore MonetaryScore RFM_GROUP  RFM_SCORE  \\\n",
       "1172  C0000843            5              5             5       555         15   \n",
       "1757  C0001287            5              5             5       555         15   \n",
       "671   C0000431            5              5             5       555         15   \n",
       "1044  C0000745            5              5             5       555         15   \n",
       "345   C0000254            5              5             5       555         15   \n",
       "...        ...          ...            ...           ...       ...        ...   \n",
       "349   C1000718            0              3             1       031          4   \n",
       "348   C1000706           -1              2             2      -122          3   \n",
       "67    C0000076           -1              2             1      -121          2   \n",
       "127   C1000243           -2              2             2      -222          2   \n",
       "397   C1000797            0              2             1       021          3   \n",
       "\n",
       "     loyalty_level        DATECREATION LIBELLE_CODE_STAT2  annee_BL  \n",
       "1172     Excellent 2020-04-29 09:20:08        Particulier    2021.0  \n",
       "1757     Excellent 2020-07-01 17:58:55        Particulier    2021.0  \n",
       "671      Excellent 2019-05-13 11:55:23        Particulier    2021.0  \n",
       "1044     Excellent 2020-03-12 14:30:26        Particulier    2021.0  \n",
       "345      Excellent 2018-06-27 11:12:08       Collectivité    2021.0  \n",
       "...            ...                 ...                ...       ...  \n",
       "349           Lost 2018-07-01 21:00:04        Particulier    2019.0  \n",
       "348           Lost 2018-06-29 14:50:04        Particulier    2018.0  \n",
       "67            Lost 2017-06-13 14:48:02      Pro. Tourisme    2018.0  \n",
       "127           Lost 2017-07-31 16:20:07        Particulier    2017.0  \n",
       "397           Lost 2018-07-10 17:00:12        Particulier    2019.0  \n",
       "\n",
       "[2060 rows x 10 columns]"
      ]
     },
     "execution_count": 57,
     "metadata": {},
     "output_type": "execute_result"
    }
   ],
   "source": [
    "Dataseg = pd.merge(RFMseg,DATAseg, how='left',on='TIERS')\n",
    "dataSeg = Dataseg.sort_values('loyalty_level',ascending=False)\n",
    "dataSeg"
   ]
  },
  {
   "cell_type": "code",
   "execution_count": 58,
   "id": "8598c6d5-54d2-4897-b59f-1c401590c86d",
   "metadata": {},
   "outputs": [],
   "source": [
    "client  = pd.read_csv('data/clients.csv')"
   ]
  },
  {
   "cell_type": "code",
   "execution_count": 59,
   "id": "c5d5b881-4071-4140-9e75-dcdfd0e69d41",
   "metadata": {},
   "outputs": [],
   "source": [
    "client= client[['TIERS','NOMCLIENT','TELEPHONE','EMAIL']]"
   ]
  },
  {
   "cell_type": "code",
   "execution_count": 60,
   "id": "c5b3f695-c885-4b6a-bf5c-f5d0682faf50",
   "metadata": {},
   "outputs": [],
   "source": [
    "client['TIERS'] = client['TIERS'].str.strip()"
   ]
  },
  {
   "cell_type": "code",
   "execution_count": 61,
   "id": "7ccc1557-f7b4-4714-ac5c-32e66d0fc2f8",
   "metadata": {},
   "outputs": [
    {
     "data": {
      "text/html": [
       "<div>\n",
       "<style scoped>\n",
       "    .dataframe tbody tr th:only-of-type {\n",
       "        vertical-align: middle;\n",
       "    }\n",
       "\n",
       "    .dataframe tbody tr th {\n",
       "        vertical-align: top;\n",
       "    }\n",
       "\n",
       "    .dataframe thead th {\n",
       "        text-align: right;\n",
       "    }\n",
       "</style>\n",
       "<table border=\"1\" class=\"dataframe\">\n",
       "  <thead>\n",
       "    <tr style=\"text-align: right;\">\n",
       "      <th></th>\n",
       "      <th>TIERS</th>\n",
       "      <th>NOMCLIENT</th>\n",
       "      <th>TELEPHONE</th>\n",
       "      <th>EMAIL</th>\n",
       "    </tr>\n",
       "  </thead>\n",
       "  <tbody>\n",
       "    <tr>\n",
       "      <th>0</th>\n",
       "      <td>C0000338</td>\n",
       "      <td>PANAMARINA</td>\n",
       "      <td>+50760058879</td>\n",
       "      <td>panamarina1@yahoo.com</td>\n",
       "    </tr>\n",
       "    <tr>\n",
       "      <th>1</th>\n",
       "      <td>C0000487</td>\n",
       "      <td>Saprochi SA</td>\n",
       "      <td>0041794473909</td>\n",
       "      <td>andrea.granelli@saprochi.ch</td>\n",
       "    </tr>\n",
       "    <tr>\n",
       "      <th>2</th>\n",
       "      <td>C0000702</td>\n",
       "      <td>BELLAGAMBI FRANCOISE</td>\n",
       "      <td>0661502267</td>\n",
       "      <td>p.bellagambi@qista.com</td>\n",
       "    </tr>\n",
       "    <tr>\n",
       "      <th>3</th>\n",
       "      <td>C0000556</td>\n",
       "      <td>APARICIO Vincent</td>\n",
       "      <td>0490383839</td>\n",
       "      <td>vincent.aparicio@orange.fr</td>\n",
       "    </tr>\n",
       "    <tr>\n",
       "      <th>4</th>\n",
       "      <td>C0000293</td>\n",
       "      <td>AEC</td>\n",
       "      <td>0608435887</td>\n",
       "      <td>aec11@wanadoo.fr</td>\n",
       "    </tr>\n",
       "  </tbody>\n",
       "</table>\n",
       "</div>"
      ],
      "text/plain": [
       "      TIERS             NOMCLIENT             TELEPHONE  \\\n",
       "0  C0000338            PANAMARINA  +50760058879           \n",
       "1  C0000487           Saprochi SA  0041794473909          \n",
       "2  C0000702  BELLAGAMBI FRANCOISE  0661502267             \n",
       "3  C0000556      APARICIO Vincent  0490383839             \n",
       "4  C0000293                   AEC  0608435887             \n",
       "\n",
       "                         EMAIL  \n",
       "0        panamarina1@yahoo.com  \n",
       "1  andrea.granelli@saprochi.ch  \n",
       "2       p.bellagambi@qista.com  \n",
       "3   vincent.aparicio@orange.fr  \n",
       "4             aec11@wanadoo.fr  "
      ]
     },
     "execution_count": 61,
     "metadata": {},
     "output_type": "execute_result"
    }
   ],
   "source": [
    "client.head()"
   ]
  },
  {
   "cell_type": "code",
   "execution_count": 62,
   "id": "2c996898-250c-4e36-911e-dc1d525bcef6",
   "metadata": {},
   "outputs": [],
   "source": [
    "dataSeg = pd.merge(dataSeg,client, how='left', on='TIERS')"
   ]
  },
  {
   "cell_type": "code",
   "execution_count": 64,
   "id": "788a468e-82e1-4f2a-84fa-5b4d94294be4",
   "metadata": {},
   "outputs": [
    {
     "name": "stdout",
     "output_type": "stream",
     "text": [
      "<class 'pandas.core.frame.DataFrame'>\n",
      "Int64Index: 2060 entries, 0 to 2059\n",
      "Data columns (total 13 columns):\n",
      " #   Column              Non-Null Count  Dtype         \n",
      "---  ------              --------------  -----         \n",
      " 0   TIERS               2060 non-null   object        \n",
      " 1   RecencyScore        2060 non-null   category      \n",
      " 2   FrequencyScore      2060 non-null   category      \n",
      " 3   MonetaryScore       2060 non-null   category      \n",
      " 4   RFM_GROUP           2060 non-null   object        \n",
      " 5   RFM_SCORE           2060 non-null   int64         \n",
      " 6   loyalty_level       2060 non-null   category      \n",
      " 7   DATECREATION        2060 non-null   datetime64[ns]\n",
      " 8   LIBELLE_CODE_STAT2  2060 non-null   object        \n",
      " 9   annee_BL            2060 non-null   float64       \n",
      " 10  NOMCLIENT           2060 non-null   object        \n",
      " 11  TELEPHONE           2051 non-null   object        \n",
      " 12  EMAIL               2050 non-null   object        \n",
      "dtypes: category(4), datetime64[ns](1), float64(1), int64(1), object(6)\n",
      "memory usage: 169.8+ KB\n"
     ]
    }
   ],
   "source": [
    "dataSeg.info()"
   ]
  },
  {
   "cell_type": "code",
   "execution_count": null,
   "id": "c6980815-f142-4d8d-8e8b-bb8c1e2a7575",
   "metadata": {},
   "outputs": [],
   "source": []
  },
  {
   "cell_type": "code",
   "execution_count": 65,
   "id": "06b6f28f",
   "metadata": {},
   "outputs": [
    {
     "data": {
      "text/html": [
       "<div>\n",
       "<style scoped>\n",
       "    .dataframe tbody tr th:only-of-type {\n",
       "        vertical-align: middle;\n",
       "    }\n",
       "\n",
       "    .dataframe tbody tr th {\n",
       "        vertical-align: top;\n",
       "    }\n",
       "\n",
       "    .dataframe thead th {\n",
       "        text-align: right;\n",
       "    }\n",
       "</style>\n",
       "<table border=\"1\" class=\"dataframe\">\n",
       "  <thead>\n",
       "    <tr style=\"text-align: right;\">\n",
       "      <th></th>\n",
       "      <th>TIERS</th>\n",
       "      <th>RECENCYy</th>\n",
       "      <th>FREQUENCY</th>\n",
       "      <th>MONETARY</th>\n",
       "      <th>RecencyScore</th>\n",
       "      <th>FrequencyScore</th>\n",
       "      <th>MonetaryScore</th>\n",
       "      <th>RFM_GROUP</th>\n",
       "      <th>RFM_SCORE</th>\n",
       "      <th>loyalty_level</th>\n",
       "    </tr>\n",
       "  </thead>\n",
       "  <tbody>\n",
       "    <tr>\n",
       "      <th>1869</th>\n",
       "      <td>C0001327</td>\n",
       "      <td>2020.0</td>\n",
       "      <td>22.0</td>\n",
       "      <td>5477.18</td>\n",
       "      <td>4</td>\n",
       "      <td>5</td>\n",
       "      <td>5</td>\n",
       "      <td>455</td>\n",
       "      <td>14</td>\n",
       "      <td>Good</td>\n",
       "    </tr>\n",
       "  </tbody>\n",
       "</table>\n",
       "</div>"
      ],
      "text/plain": [
       "         TIERS  RECENCYy  FREQUENCY  MONETARY RecencyScore FrequencyScore  \\\n",
       "1869  C0001327    2020.0       22.0   5477.18            4              5   \n",
       "\n",
       "     MonetaryScore RFM_GROUP  RFM_SCORE loyalty_level  \n",
       "1869             5       455         14          Good  "
      ]
     },
     "execution_count": 65,
     "metadata": {},
     "output_type": "execute_result"
    }
   ],
   "source": [
    "RFM[RFM[\"TIERS\"]==\"C0001327\"]\n",
    "# SegmentedData = data.filter(items=['TIERS','DATECREATION','LIBELLE_CODE_STAT2','annee_BL','loyalty_level','RFM_GROUP','RFM_SCORE'])\n",
    "\n",
    "# SegmentedData = SegmentedData.sort_values('loyalty_level',ascending=True)\n",
    "# SegmentedData"
   ]
  },
  {
   "cell_type": "code",
   "execution_count": 66,
   "id": "9db8a685",
   "metadata": {},
   "outputs": [],
   "source": [
    " #= data[data['loyalty_level']=='Excellent'].sort_values('RFM_SCORE',ascending=True)\n",
    "# clientGood = data[data['loyalty_level']=='Good'].sort_values('RFM_SCORE',ascending=True)\n",
    "# clientMedium = data[data['loyalty_level']=='Medium'].sort_values('RFM_SCORE',ascending=True)\n",
    "# clientTo_relance = data[data['loyalty_level']=='To_relance'].sort_values('RFM_SCORE',ascending=True)"
   ]
  },
  {
   "cell_type": "code",
   "execution_count": 67,
   "id": "0a3fd589",
   "metadata": {},
   "outputs": [],
   "source": [
    "dataSeg.to_excel('data/SegmentedCustomer.xlsx',sheet_name='Loyalty_Segmentation')\n",
    "# clientGood.to_csv('data/Good.csv',sep=';')\n",
    "# clientMedium.to_csv('data/Medium.csv',sep=';')\n",
    "# clientTo_relance.to_csv('data/To_relance.csv',sep=';')"
   ]
  },
  {
   "cell_type": "code",
   "execution_count": null,
   "id": "88b77284",
   "metadata": {},
   "outputs": [],
   "source": [
    "dataSeg.shape\n"
   ]
  },
  {
   "cell_type": "code",
   "execution_count": null,
   "id": "c7a9ab7c",
   "metadata": {},
   "outputs": [],
   "source": []
  }
 ],
 "metadata": {
  "kernelspec": {
   "display_name": "Python 3 (ipykernel)",
   "language": "python",
   "name": "python3"
  },
  "language_info": {
   "codemirror_mode": {
    "name": "ipython",
    "version": 3
   },
   "file_extension": ".py",
   "mimetype": "text/x-python",
   "name": "python",
   "nbconvert_exporter": "python",
   "pygments_lexer": "ipython3",
   "version": "3.8.11"
  }
 },
 "nbformat": 4,
 "nbformat_minor": 5
}
